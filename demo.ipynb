{
 "cells": [
  {
   "cell_type": "markdown",
   "metadata": {},
   "source": [
    "This is a Minimal Working Example of text mining on the dataset offered by <a href=\"https://www.kaggle.com/allen-institute-for-ai/CORD-19-research-challenge\">COVID-19 Open Research Dataset Challenge (CORD-19)</a> in order to find literature related to COVID-19 diagnose tests.\n",
    "\n",
    "Below is the demo of a program that searches for PCR-related keywords in the literature data, and lists the publications with the highest keyword match."
   ]
  },
  {
   "cell_type": "markdown",
   "metadata": {},
   "source": [
    "Imports"
   ]
  },
  {
   "cell_type": "code",
   "execution_count": 4,
   "metadata": {},
   "outputs": [],
   "source": [
    "import os\n",
    "from collections import OrderedDict\n",
    "import pandas as pd\n",
    "import nltk\n",
    "from nltk.corpus import stopwords\n",
    "from nltk.tokenize import word_tokenize\n",
    "from nltk.tokenize import sent_tokenize"
   ]
  },
  {
   "cell_type": "markdown",
   "metadata": {},
   "source": [
    "Functions"
   ]
  },
  {
   "cell_type": "code",
   "execution_count": 32,
   "metadata": {},
   "outputs": [],
   "source": [
    "def find_kw(kw, text):\n",
    "\t\"\"\"\n",
    "\tFind a keyword 'kw' in 'text' and return its number of occurences.\n",
    "\tkw must be lowered.\n",
    "\t\"\"\"\n",
    "\n",
    "\t# Count\n",
    "\tcount = text.count(kw)\n",
    "\treturn count\n",
    "\n",
    "def prepare_stopwords():\n",
    "\t\"\"\" Prepare the set of words to be stopped in English. \"\"\"\n",
    "\tglobal stopwords\n",
    "\tstopwords = set(stopwords.words('english'))\n",
    "\n",
    "def count_words(text):\n",
    "\t\"\"\" Prepare a piece of text (a string): lower, stopwords, and return dictionary of words with frequency of occurence. \"\"\"\n",
    "\n",
    "\t# Lower the text\n",
    "\ttext = text.lower()\n",
    "\t# Tokenize words\n",
    "\twords = word_tokenize(text)\n",
    "\t# Stop words\n",
    "\twords_ = [w for w in words if w not in stopwords]\n",
    "\t# Set of words\n",
    "\twordset = set(sorted(words_))\n",
    "\n",
    "\t# Dictionary of words\n",
    "\twords = OrderedDict()\n",
    "\tfor w in wordset:\n",
    "\t\twords[w] = words_.count(w)\n",
    "\t\n",
    "\treturn words\n",
    "\n",
    "def search_kw(keywords, min_freq=0):\n",
    "\t\"\"\"\n",
    "\tSearch for keywords in all the abstracts of the metadata.\n",
    "\tIterate over all abstracts and yield a dictionary of occurences as {cord_uid: occurences}.\n",
    "\t\"\"\"\n",
    "\n",
    "\toccurences = {}\n",
    "\n",
    "\t# Iterate over all abstracts\n",
    "\tfor cord_uid, abstract in zip(metadata.cord_uid, metadata.abstract):\n",
    "\t\t# Get the words in the abstract\n",
    "\t\twords = count_words(abstract)\n",
    "\t\t# Get the number of occurences of the word in this abstract\n",
    "\t\tfor kw in keywords:\n",
    "\t\t\t# Look for it in the abstract's words\n",
    "\t\t\ttry:\n",
    "\t\t\t\tn = words[kw]\n",
    "\t\t\texcept KeyError:\n",
    "\t\t\t\tpass\n",
    "\t\t\telse:\n",
    "\t\t\t\t# Add it to the counter\n",
    "\t\t\t\ttry:\n",
    "\t\t\t\t\toccurences[cord_uid] += n\n",
    "\t\t\t\texcept KeyError:\n",
    "\t\t\t\t\toccurences[cord_uid] = n\n",
    "\n",
    "\t# occurences to DataFrame\n",
    "\toccurences = pd.DataFrame({'cord_uid': list(occurences.keys()), 'frequency': list(occurences.values())})\n",
    "\n",
    "\t# Filter using min_freq\n",
    "\toccurences = occurences[occurences.frequency >= min_freq]\n",
    "\n",
    "\t# Sort by frequency in descending order\n",
    "\toccurences.sort_values(by='frequency', ascending=False, inplace=True, ignore_index=True)\n",
    "\n",
    "\treturn occurences"
   ]
  },
  {
   "cell_type": "code",
   "execution_count": 8,
   "metadata": {},
   "outputs": [],
   "source": [
    "# Define folder paths\n",
    "cwd = os.getcwd()\n",
    "folders = {'corddata': os.path.join(cwd, 'corddata')}"
   ]
  },
  {
   "cell_type": "code",
   "execution_count": 9,
   "metadata": {},
   "outputs": [],
   "source": [
    "# Prepare the stopwords list\n",
    "prepare_stopwords()"
   ]
  },
  {
   "cell_type": "code",
   "execution_count": 30,
   "metadata": {},
   "outputs": [],
   "source": [
    "# Read meta-data\n",
    "# Select only a small fraction of the data\n",
    "metadata = pd.read_csv(os.path.join(folders['corddata'], 'metadata.csv')).loc[::10]"
   ]
  },
  {
   "cell_type": "code",
   "execution_count": 31,
   "metadata": {},
   "outputs": [
    {
     "name": "stdout",
     "output_type": "stream",
     "text": [
      "Full metadata file:\n",
      "19572\n"
     ]
    }
   ],
   "source": [
    "print('Full metadata file:')\n",
    "print(metadata.shape[0])"
   ]
  },
  {
   "cell_type": "code",
   "execution_count": 33,
   "metadata": {},
   "outputs": [
    {
     "name": "stdout",
     "output_type": "stream",
     "text": [
      "After removing null abstracts:\n",
      "13943\n",
      "After removing null full texts:\n",
      "6967\n"
     ]
    }
   ],
   "source": [
    "# Filter null abstracts\n",
    "metadata.dropna(subset=['abstract'], inplace=True)\n",
    "print('After removing null abstracts:')\n",
    "print(metadata.shape[0])\n",
    "\n",
    "# Filter null texts\n",
    "has_full_text = ~(pd.isna(metadata.pdf_json_files) & pd.isna(metadata.pmc_json_files))\n",
    "metadata = metadata.loc[has_full_text].reset_index()\n",
    "print('After removing null full texts:')\n",
    "print(metadata.shape[0])"
   ]
  },
  {
   "cell_type": "markdown",
   "metadata": {},
   "source": [
    "Keyword Selection"
   ]
  },
  {
   "cell_type": "code",
   "execution_count": 34,
   "metadata": {},
   "outputs": [],
   "source": [
    "# Select keywords to search for\n",
    "kw = ['rt', 'pcr', 'polymerase', 'chain']"
   ]
  },
  {
   "cell_type": "markdown",
   "metadata": {},
   "source": [
    "Keyword Search"
   ]
  },
  {
   "cell_type": "code",
   "execution_count": 35,
   "metadata": {},
   "outputs": [
    {
     "data": {
      "text/html": [
       "<div>\n",
       "<style scoped>\n",
       "    .dataframe tbody tr th:only-of-type {\n",
       "        vertical-align: middle;\n",
       "    }\n",
       "\n",
       "    .dataframe tbody tr th {\n",
       "        vertical-align: top;\n",
       "    }\n",
       "\n",
       "    .dataframe thead th {\n",
       "        text-align: right;\n",
       "    }\n",
       "</style>\n",
       "<table border=\"1\" class=\"dataframe\">\n",
       "  <thead>\n",
       "    <tr style=\"text-align: right;\">\n",
       "      <th></th>\n",
       "      <th>cord_uid</th>\n",
       "      <th>frequency</th>\n",
       "    </tr>\n",
       "  </thead>\n",
       "  <tbody>\n",
       "    <tr>\n",
       "      <th>0</th>\n",
       "      <td>qyb8er14</td>\n",
       "      <td>14</td>\n",
       "    </tr>\n",
       "    <tr>\n",
       "      <th>1</th>\n",
       "      <td>1fv5k1h6</td>\n",
       "      <td>12</td>\n",
       "    </tr>\n",
       "    <tr>\n",
       "      <th>2</th>\n",
       "      <td>iexd5qn5</td>\n",
       "      <td>11</td>\n",
       "    </tr>\n",
       "    <tr>\n",
       "      <th>3</th>\n",
       "      <td>5xtc2odp</td>\n",
       "      <td>9</td>\n",
       "    </tr>\n",
       "    <tr>\n",
       "      <th>4</th>\n",
       "      <td>44jyy79k</td>\n",
       "      <td>9</td>\n",
       "    </tr>\n",
       "  </tbody>\n",
       "</table>\n",
       "</div>"
      ],
      "text/plain": [
       "   cord_uid  frequency\n",
       "0  qyb8er14         14\n",
       "1  1fv5k1h6         12\n",
       "2  iexd5qn5         11\n",
       "3  5xtc2odp          9\n",
       "4  44jyy79k          9"
      ]
     },
     "execution_count": 35,
     "metadata": {},
     "output_type": "execute_result"
    }
   ],
   "source": [
    "# Search the keywords in the metadata\n",
    "occurences = search_kw(kw, min_freq=2)\n",
    "occurences.head()"
   ]
  },
  {
   "cell_type": "markdown",
   "metadata": {},
   "source": [
    "Show the papers with the highest frequency of the keywords"
   ]
  },
  {
   "cell_type": "code",
   "execution_count": 36,
   "metadata": {},
   "outputs": [
    {
     "data": {
      "text/html": [
       "<div>\n",
       "<style scoped>\n",
       "    .dataframe tbody tr th:only-of-type {\n",
       "        vertical-align: middle;\n",
       "    }\n",
       "\n",
       "    .dataframe tbody tr th {\n",
       "        vertical-align: top;\n",
       "    }\n",
       "\n",
       "    .dataframe thead th {\n",
       "        text-align: right;\n",
       "    }\n",
       "</style>\n",
       "<table border=\"1\" class=\"dataframe\">\n",
       "  <thead>\n",
       "    <tr style=\"text-align: right;\">\n",
       "      <th></th>\n",
       "      <th>frequency</th>\n",
       "      <th>title</th>\n",
       "      <th>publish_time</th>\n",
       "      <th>url</th>\n",
       "    </tr>\n",
       "  </thead>\n",
       "  <tbody>\n",
       "    <tr>\n",
       "      <th>0</th>\n",
       "      <td>14</td>\n",
       "      <td>Two Multiplex Real-Time PCR Assays to Detect a...</td>\n",
       "      <td>2016-07-08</td>\n",
       "      <td>https://www.ncbi.nlm.nih.gov/pmc/articles/PMC4...</td>\n",
       "    </tr>\n",
       "    <tr>\n",
       "      <th>1</th>\n",
       "      <td>12</td>\n",
       "      <td>Development of polymerase chain reaction-based...</td>\n",
       "      <td>2017-01-21</td>\n",
       "      <td>https://www.ncbi.nlm.nih.gov/pubmed/28574020/;...</td>\n",
       "    </tr>\n",
       "    <tr>\n",
       "      <th>2</th>\n",
       "      <td>11</td>\n",
       "      <td>Alternative divalent cations (Zn(2+), Co(2+), ...</td>\n",
       "      <td>2015-05-03</td>\n",
       "      <td>https://doi.org/10.1186/s12858-015-0041-x; htt...</td>\n",
       "    </tr>\n",
       "    <tr>\n",
       "      <th>3</th>\n",
       "      <td>9</td>\n",
       "      <td>Characterizing the Qatar advanced-phase SARS-C...</td>\n",
       "      <td>2020-07-19</td>\n",
       "      <td>http://medrxiv.org/cgi/content/short/2020.07.1...</td>\n",
       "    </tr>\n",
       "    <tr>\n",
       "      <th>4</th>\n",
       "      <td>9</td>\n",
       "      <td>Hybridization Chain Reactions Targeting the Se...</td>\n",
       "      <td>2020-05-01</td>\n",
       "      <td>https://doi.org/10.3390/ijms21093216; https://...</td>\n",
       "    </tr>\n",
       "  </tbody>\n",
       "</table>\n",
       "</div>"
      ],
      "text/plain": [
       "   frequency                                              title publish_time  \\\n",
       "0         14  Two Multiplex Real-Time PCR Assays to Detect a...   2016-07-08   \n",
       "1         12  Development of polymerase chain reaction-based...   2017-01-21   \n",
       "2         11  Alternative divalent cations (Zn(2+), Co(2+), ...   2015-05-03   \n",
       "3          9  Characterizing the Qatar advanced-phase SARS-C...   2020-07-19   \n",
       "4          9  Hybridization Chain Reactions Targeting the Se...   2020-05-01   \n",
       "\n",
       "                                                 url  \n",
       "0  https://www.ncbi.nlm.nih.gov/pmc/articles/PMC4...  \n",
       "1  https://www.ncbi.nlm.nih.gov/pubmed/28574020/;...  \n",
       "2  https://doi.org/10.1186/s12858-015-0041-x; htt...  \n",
       "3  http://medrxiv.org/cgi/content/short/2020.07.1...  \n",
       "4  https://doi.org/10.3390/ijms21093216; https://...  "
      ]
     },
     "execution_count": 36,
     "metadata": {},
     "output_type": "execute_result"
    }
   ],
   "source": [
    "# Nice display of the results\n",
    "results = pd.merge(occurences, metadata, how='left', left_on='cord_uid', right_on='cord_uid')\n",
    "results = results[['frequency', 'title', 'publish_time', 'url', 'abstract']]\n",
    "\n",
    "results[['frequency', 'title', 'publish_time', 'url']].head()"
   ]
  },
  {
   "cell_type": "code",
   "execution_count": 42,
   "metadata": {},
   "outputs": [
    {
     "name": "stdout",
     "output_type": "stream",
     "text": [
      "https://www.ncbi.nlm.nih.gov/pmc/articles/PMC4938629/\n",
      "https://www.ncbi.nlm.nih.gov/pubmed/28574020/; https://doi.org/10.4103/ijmr.ijmr_1447_15\n",
      "https://doi.org/10.1186/s12858-015-0041-x; https://www.ncbi.nlm.nih.gov/pubmed/25934642/\n",
      "http://medrxiv.org/cgi/content/short/2020.07.16.20155317v1?rss=1\n",
      "https://doi.org/10.3390/ijms21093216; https://www.ncbi.nlm.nih.gov/pubmed/32370065/\n"
     ]
    }
   ],
   "source": [
    "# Show full URLs of the DataFrame above\n",
    "for url in results.url[:5]:\n",
    "    print(url)"
   ]
  },
  {
   "cell_type": "code",
   "execution_count": null,
   "metadata": {},
   "outputs": [],
   "source": []
  }
 ],
 "metadata": {
  "kernelspec": {
   "display_name": "Python 3",
   "language": "python",
   "name": "python3"
  },
  "language_info": {
   "codemirror_mode": {
    "name": "ipython",
    "version": 3
   },
   "file_extension": ".py",
   "mimetype": "text/x-python",
   "name": "python",
   "nbconvert_exporter": "python",
   "pygments_lexer": "ipython3",
   "version": "3.8.3"
  }
 },
 "nbformat": 4,
 "nbformat_minor": 4
}
